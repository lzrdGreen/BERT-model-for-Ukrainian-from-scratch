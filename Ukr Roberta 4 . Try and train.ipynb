{
 "cells": [
  {
   "cell_type": "markdown",
   "id": "0c0c4987",
   "metadata": {},
   "source": [
    "This notebook mostly follows https://towardsdatascience.com/how-to-train-a-bert-model-from-scratch-72cfce554fc6 for Ukrainian"
   ]
  },
  {
   "cell_type": "markdown",
   "id": "48f306d5",
   "metadata": {},
   "source": [
    "### Load pre-trained tokenizer and model"
   ]
  },
  {
   "cell_type": "code",
   "execution_count": 1,
   "id": "fdae3018",
   "metadata": {},
   "outputs": [],
   "source": [
    "# load the pre-trained tokenizer\n",
    "from transformers import RobertaTokenizer\n",
    "tokenizer = RobertaTokenizer.from_pretrained('panas1', max_len=512)\n",
    "\n",
    "# load the pre-trained model\n",
    "from transformers import RobertaForMaskedLM\n",
    "model = RobertaForMaskedLM.from_pretrained('./panas1')\n",
    "\n",
    "import torch\n",
    "from tqdm.auto import tqdm\n",
    "from pathlib import Path\n",
    "paths = [str(x) for x in Path('./data/text/oscar_uk').glob('**/*.txt')]\n",
    "\n",
    "class Dataset(torch.utils.data.Dataset):\n",
    "    def __init__(self, encodings):\n",
    "        # store encodings internally\n",
    "        self.encodings = encodings\n",
    "\n",
    "    def __len__(self):\n",
    "        # return the number of samples\n",
    "        return self.encodings['input_ids'].shape[0]\n",
    "\n",
    "    def __getitem__(self, i):\n",
    "        # return dictionary of input_ids, attention_mask, and labels for index i\n",
    "        return {key: tensor[i] for key, tensor in self.encodings.items()}"
   ]
  },
  {
   "cell_type": "markdown",
   "id": "63bc8740",
   "metadata": {},
   "source": [
    "### Get the data"
   ]
  },
  {
   "cell_type": "code",
   "execution_count": 2,
   "id": "39f79437",
   "metadata": {},
   "outputs": [],
   "source": [
    "# get training data:\n",
    "with open('./data/text/oscar_uk/text_5.txt', 'r', encoding='utf-8') as fp:\n",
    "    lines = fp.read().split('\\n')\n",
    "batch = tokenizer(lines, max_length=512, padding='max_length', truncation=True)\n",
    "labels = torch.tensor([x for x in batch['input_ids']])\n",
    "mask = torch.tensor([x for x in batch['attention_mask']])\n",
    "input_ids = labels.detach().clone()\n",
    "rand = torch.rand(input_ids.shape)\n",
    "mask_arr = (rand < .15) * (input_ids != 0) * (input_ids != 1) * (input_ids != 2)\n",
    "for i in range(input_ids.shape[0]):\n",
    "    # get indices of mask positions from mask array\n",
    "    selection = torch.flatten(mask_arr[i].nonzero()).tolist()\n",
    "    # mask input_ids\n",
    "    input_ids[i, selection] = 3  # our custom [MASK] token == 3\n",
    "encodings = {'input_ids': input_ids, 'attention_mask': mask, 'labels': labels}\n",
    "dataset = Dataset(encodings)"
   ]
  },
  {
   "cell_type": "code",
   "execution_count": 3,
   "id": "22758325",
   "metadata": {},
   "outputs": [],
   "source": [
    "from torch.utils.data import DataLoader, RandomSampler, SequentialSampler\n",
    "#loader = torch.utils.data.DataLoader(dataset, batch_size=8, shuffle=True)\n",
    "loader = DataLoader(dataset, sampler = RandomSampler(dataset), batch_size=4)"
   ]
  },
  {
   "cell_type": "code",
   "execution_count": 4,
   "id": "db876855",
   "metadata": {},
   "outputs": [],
   "source": [
    "# get validation data\n",
    "with open('./data/text/oscar_uk/text_1556.txt', 'r', encoding='utf-8') as fp:\n",
    "    lines = fp.read().split('\\n')\n",
    "\n",
    "batch = tokenizer(lines, max_length=512, padding='max_length', truncation=True)\n",
    "labels = torch.tensor([x for x in batch['input_ids']])\n",
    "mask = torch.tensor([x for x in batch['attention_mask']])\n",
    "input_ids = labels.detach().clone()\n",
    "rand = torch.rand(input_ids.shape)\n",
    "mask_arr = (rand < .15) * (input_ids != 0) * (input_ids != 1) * (input_ids != 2)\n",
    "for i in range(input_ids.shape[0]):\n",
    "    # get indices of mask positions from mask array\n",
    "    selection = torch.flatten(mask_arr[i].nonzero()).tolist()\n",
    "    # mask input_ids\n",
    "    input_ids[i, selection] = 3  # our custom [MASK] token == 3\n",
    "\n",
    "valencodings = {'input_ids': input_ids, 'attention_mask': mask, 'labels': labels}\n",
    "valdataset = Dataset(valencodings)"
   ]
  },
  {
   "cell_type": "code",
   "execution_count": 5,
   "id": "800926b0",
   "metadata": {},
   "outputs": [],
   "source": [
    "# valloader = torch.utils.data.DataLoader(valdataset, batch_size=1, shuffle=True)\n",
    "valloader = DataLoader(valdataset, sampler = SequentialSampler(valdataset), batch_size=4)"
   ]
  },
  {
   "cell_type": "markdown",
   "id": "f2f9d85c",
   "metadata": {},
   "source": [
    "### Train the model"
   ]
  },
  {
   "cell_type": "code",
   "execution_count": 6,
   "id": "5f502ff2",
   "metadata": {},
   "outputs": [
    {
     "data": {
      "text/plain": [
       "RobertaForMaskedLM(\n",
       "  (roberta): RobertaModel(\n",
       "    (embeddings): RobertaEmbeddings(\n",
       "      (word_embeddings): Embedding(30522, 768, padding_idx=1)\n",
       "      (position_embeddings): Embedding(514, 768, padding_idx=1)\n",
       "      (token_type_embeddings): Embedding(1, 768)\n",
       "      (LayerNorm): LayerNorm((768,), eps=1e-12, elementwise_affine=True)\n",
       "      (dropout): Dropout(p=0.1, inplace=False)\n",
       "    )\n",
       "    (encoder): RobertaEncoder(\n",
       "      (layer): ModuleList(\n",
       "        (0): RobertaLayer(\n",
       "          (attention): RobertaAttention(\n",
       "            (self): RobertaSelfAttention(\n",
       "              (query): Linear(in_features=768, out_features=768, bias=True)\n",
       "              (key): Linear(in_features=768, out_features=768, bias=True)\n",
       "              (value): Linear(in_features=768, out_features=768, bias=True)\n",
       "              (dropout): Dropout(p=0.1, inplace=False)\n",
       "            )\n",
       "            (output): RobertaSelfOutput(\n",
       "              (dense): Linear(in_features=768, out_features=768, bias=True)\n",
       "              (LayerNorm): LayerNorm((768,), eps=1e-12, elementwise_affine=True)\n",
       "              (dropout): Dropout(p=0.1, inplace=False)\n",
       "            )\n",
       "          )\n",
       "          (intermediate): RobertaIntermediate(\n",
       "            (dense): Linear(in_features=768, out_features=3072, bias=True)\n",
       "          )\n",
       "          (output): RobertaOutput(\n",
       "            (dense): Linear(in_features=3072, out_features=768, bias=True)\n",
       "            (LayerNorm): LayerNorm((768,), eps=1e-12, elementwise_affine=True)\n",
       "            (dropout): Dropout(p=0.1, inplace=False)\n",
       "          )\n",
       "        )\n",
       "        (1): RobertaLayer(\n",
       "          (attention): RobertaAttention(\n",
       "            (self): RobertaSelfAttention(\n",
       "              (query): Linear(in_features=768, out_features=768, bias=True)\n",
       "              (key): Linear(in_features=768, out_features=768, bias=True)\n",
       "              (value): Linear(in_features=768, out_features=768, bias=True)\n",
       "              (dropout): Dropout(p=0.1, inplace=False)\n",
       "            )\n",
       "            (output): RobertaSelfOutput(\n",
       "              (dense): Linear(in_features=768, out_features=768, bias=True)\n",
       "              (LayerNorm): LayerNorm((768,), eps=1e-12, elementwise_affine=True)\n",
       "              (dropout): Dropout(p=0.1, inplace=False)\n",
       "            )\n",
       "          )\n",
       "          (intermediate): RobertaIntermediate(\n",
       "            (dense): Linear(in_features=768, out_features=3072, bias=True)\n",
       "          )\n",
       "          (output): RobertaOutput(\n",
       "            (dense): Linear(in_features=3072, out_features=768, bias=True)\n",
       "            (LayerNorm): LayerNorm((768,), eps=1e-12, elementwise_affine=True)\n",
       "            (dropout): Dropout(p=0.1, inplace=False)\n",
       "          )\n",
       "        )\n",
       "        (2): RobertaLayer(\n",
       "          (attention): RobertaAttention(\n",
       "            (self): RobertaSelfAttention(\n",
       "              (query): Linear(in_features=768, out_features=768, bias=True)\n",
       "              (key): Linear(in_features=768, out_features=768, bias=True)\n",
       "              (value): Linear(in_features=768, out_features=768, bias=True)\n",
       "              (dropout): Dropout(p=0.1, inplace=False)\n",
       "            )\n",
       "            (output): RobertaSelfOutput(\n",
       "              (dense): Linear(in_features=768, out_features=768, bias=True)\n",
       "              (LayerNorm): LayerNorm((768,), eps=1e-12, elementwise_affine=True)\n",
       "              (dropout): Dropout(p=0.1, inplace=False)\n",
       "            )\n",
       "          )\n",
       "          (intermediate): RobertaIntermediate(\n",
       "            (dense): Linear(in_features=768, out_features=3072, bias=True)\n",
       "          )\n",
       "          (output): RobertaOutput(\n",
       "            (dense): Linear(in_features=3072, out_features=768, bias=True)\n",
       "            (LayerNorm): LayerNorm((768,), eps=1e-12, elementwise_affine=True)\n",
       "            (dropout): Dropout(p=0.1, inplace=False)\n",
       "          )\n",
       "        )\n",
       "        (3): RobertaLayer(\n",
       "          (attention): RobertaAttention(\n",
       "            (self): RobertaSelfAttention(\n",
       "              (query): Linear(in_features=768, out_features=768, bias=True)\n",
       "              (key): Linear(in_features=768, out_features=768, bias=True)\n",
       "              (value): Linear(in_features=768, out_features=768, bias=True)\n",
       "              (dropout): Dropout(p=0.1, inplace=False)\n",
       "            )\n",
       "            (output): RobertaSelfOutput(\n",
       "              (dense): Linear(in_features=768, out_features=768, bias=True)\n",
       "              (LayerNorm): LayerNorm((768,), eps=1e-12, elementwise_affine=True)\n",
       "              (dropout): Dropout(p=0.1, inplace=False)\n",
       "            )\n",
       "          )\n",
       "          (intermediate): RobertaIntermediate(\n",
       "            (dense): Linear(in_features=768, out_features=3072, bias=True)\n",
       "          )\n",
       "          (output): RobertaOutput(\n",
       "            (dense): Linear(in_features=3072, out_features=768, bias=True)\n",
       "            (LayerNorm): LayerNorm((768,), eps=1e-12, elementwise_affine=True)\n",
       "            (dropout): Dropout(p=0.1, inplace=False)\n",
       "          )\n",
       "        )\n",
       "        (4): RobertaLayer(\n",
       "          (attention): RobertaAttention(\n",
       "            (self): RobertaSelfAttention(\n",
       "              (query): Linear(in_features=768, out_features=768, bias=True)\n",
       "              (key): Linear(in_features=768, out_features=768, bias=True)\n",
       "              (value): Linear(in_features=768, out_features=768, bias=True)\n",
       "              (dropout): Dropout(p=0.1, inplace=False)\n",
       "            )\n",
       "            (output): RobertaSelfOutput(\n",
       "              (dense): Linear(in_features=768, out_features=768, bias=True)\n",
       "              (LayerNorm): LayerNorm((768,), eps=1e-12, elementwise_affine=True)\n",
       "              (dropout): Dropout(p=0.1, inplace=False)\n",
       "            )\n",
       "          )\n",
       "          (intermediate): RobertaIntermediate(\n",
       "            (dense): Linear(in_features=768, out_features=3072, bias=True)\n",
       "          )\n",
       "          (output): RobertaOutput(\n",
       "            (dense): Linear(in_features=3072, out_features=768, bias=True)\n",
       "            (LayerNorm): LayerNorm((768,), eps=1e-12, elementwise_affine=True)\n",
       "            (dropout): Dropout(p=0.1, inplace=False)\n",
       "          )\n",
       "        )\n",
       "        (5): RobertaLayer(\n",
       "          (attention): RobertaAttention(\n",
       "            (self): RobertaSelfAttention(\n",
       "              (query): Linear(in_features=768, out_features=768, bias=True)\n",
       "              (key): Linear(in_features=768, out_features=768, bias=True)\n",
       "              (value): Linear(in_features=768, out_features=768, bias=True)\n",
       "              (dropout): Dropout(p=0.1, inplace=False)\n",
       "            )\n",
       "            (output): RobertaSelfOutput(\n",
       "              (dense): Linear(in_features=768, out_features=768, bias=True)\n",
       "              (LayerNorm): LayerNorm((768,), eps=1e-12, elementwise_affine=True)\n",
       "              (dropout): Dropout(p=0.1, inplace=False)\n",
       "            )\n",
       "          )\n",
       "          (intermediate): RobertaIntermediate(\n",
       "            (dense): Linear(in_features=768, out_features=3072, bias=True)\n",
       "          )\n",
       "          (output): RobertaOutput(\n",
       "            (dense): Linear(in_features=3072, out_features=768, bias=True)\n",
       "            (LayerNorm): LayerNorm((768,), eps=1e-12, elementwise_affine=True)\n",
       "            (dropout): Dropout(p=0.1, inplace=False)\n",
       "          )\n",
       "        )\n",
       "      )\n",
       "    )\n",
       "  )\n",
       "  (lm_head): RobertaLMHead(\n",
       "    (dense): Linear(in_features=768, out_features=768, bias=True)\n",
       "    (layer_norm): LayerNorm((768,), eps=1e-12, elementwise_affine=True)\n",
       "    (decoder): Linear(in_features=768, out_features=30522, bias=True)\n",
       "  )\n",
       ")"
      ]
     },
     "execution_count": 6,
     "metadata": {},
     "output_type": "execute_result"
    }
   ],
   "source": [
    "torch.cuda.empty_cache()\n",
    "device = torch.device('cuda') if torch.cuda.is_available() else torch.device('cpu')\n",
    "model.to(device)"
   ]
  },
  {
   "cell_type": "code",
   "execution_count": 7,
   "id": "0ad8aa12",
   "metadata": {},
   "outputs": [],
   "source": [
    "from transformers import AdamW\n",
    "\n",
    "# activate training mode\n",
    "model.train()\n",
    "# initialize optimizer\n",
    "optim = AdamW(model.parameters(), lr=1e-5) "
   ]
  },
  {
   "cell_type": "code",
   "execution_count": 11,
   "id": "15bf4ae0",
   "metadata": {},
   "outputs": [],
   "source": [
    "import numpy as np\n",
    "epochs = 4\n",
    "loss_hist = [] # per iter\n",
    "best_model = None\n",
    "best_val_loss = np.Inf\n",
    "val_loss_hist = [] # per iter"
   ]
  },
  {
   "cell_type": "code",
   "execution_count": 9,
   "id": "fd925ea3",
   "metadata": {},
   "outputs": [],
   "source": [
    "tr_losses = [] # per epoch\n",
    "vl_losses = [] # per epoch"
   ]
  },
  {
   "cell_type": "code",
   "execution_count": 12,
   "id": "3d60299a",
   "metadata": {},
   "outputs": [
    {
     "data": {
      "application/vnd.jupyter.widget-view+json": {
       "model_id": "2c4369bf23d64e52b0d4e67843b9d4e1",
       "version_major": 2,
       "version_minor": 0
      },
      "text/plain": [
       "  0%|          | 0/1250 [00:00<?, ?it/s]"
      ]
     },
     "metadata": {},
     "output_type": "display_data"
    },
    {
     "data": {
      "application/vnd.jupyter.widget-view+json": {
       "model_id": "aa7c4c669fd94b369e5cfd9e40abcb6d",
       "version_major": 2,
       "version_minor": 0
      },
      "text/plain": [
       "  0%|          | 0/594 [00:00<?, ?it/s]"
      ]
     },
     "metadata": {},
     "output_type": "display_data"
    },
    {
     "data": {
      "application/vnd.jupyter.widget-view+json": {
       "model_id": "bfd2fe7dd9e84cf4b73b10fd7840efd7",
       "version_major": 2,
       "version_minor": 0
      },
      "text/plain": [
       "  0%|          | 0/1250 [00:00<?, ?it/s]"
      ]
     },
     "metadata": {},
     "output_type": "display_data"
    },
    {
     "data": {
      "application/vnd.jupyter.widget-view+json": {
       "model_id": "20c4f9fb752842dabaf92b0c5ca92997",
       "version_major": 2,
       "version_minor": 0
      },
      "text/plain": [
       "  0%|          | 0/594 [00:00<?, ?it/s]"
      ]
     },
     "metadata": {},
     "output_type": "display_data"
    },
    {
     "data": {
      "application/vnd.jupyter.widget-view+json": {
       "model_id": "64eeb68b935647eeb5b3baefb0333194",
       "version_major": 2,
       "version_minor": 0
      },
      "text/plain": [
       "  0%|          | 0/1250 [00:00<?, ?it/s]"
      ]
     },
     "metadata": {},
     "output_type": "display_data"
    },
    {
     "data": {
      "application/vnd.jupyter.widget-view+json": {
       "model_id": "439585f88bc74a0bb46a2b04b4c838f0",
       "version_major": 2,
       "version_minor": 0
      },
      "text/plain": [
       "  0%|          | 0/594 [00:00<?, ?it/s]"
      ]
     },
     "metadata": {},
     "output_type": "display_data"
    },
    {
     "data": {
      "application/vnd.jupyter.widget-view+json": {
       "model_id": "89765893df4546baba88839f34a1072e",
       "version_major": 2,
       "version_minor": 0
      },
      "text/plain": [
       "  0%|          | 0/1250 [00:00<?, ?it/s]"
      ]
     },
     "metadata": {},
     "output_type": "display_data"
    },
    {
     "data": {
      "application/vnd.jupyter.widget-view+json": {
       "model_id": "e046ee0edfc54c51b7983b3ac1e4f2f2",
       "version_major": 2,
       "version_minor": 0
      },
      "text/plain": [
       "  0%|          | 0/594 [00:00<?, ?it/s]"
      ]
     },
     "metadata": {},
     "output_type": "display_data"
    }
   ],
   "source": [
    "for epoch in range(epochs):\n",
    "    # setup loop with TQDM and dataloader\n",
    "    loop = tqdm(loader, leave=True)\n",
    "    total_train_loss = 0 #####################\n",
    "    model.train()        ######################\n",
    "    for batch in loop:\n",
    "        # initialize calculated gradients (from prev step)\n",
    "        model.zero_grad() ###################\n",
    "        # pull all tensor batches required for training\n",
    "        input_ids = batch['input_ids'].to(device)\n",
    "        attention_mask = batch['attention_mask'].to(device)\n",
    "        labels = batch['labels'].to(device)\n",
    "        # process\n",
    "        outputs = model(input_ids, attention_mask=attention_mask,\n",
    "                        labels=labels)\n",
    "        # extract loss\n",
    "        loss = outputs.loss\n",
    "        loss_hist.append(loss)\n",
    "        total_train_loss += loss.item() ################\n",
    "        # calculate loss for every parameter that needs grad update\n",
    "        loss.backward()\n",
    "        torch.nn.utils.clip_grad_norm_(model.parameters(), 1.0) ###################\n",
    "        # update parameters\n",
    "        optim.step()\n",
    "        # print relevant info to progress bar\n",
    "        loop.set_description(f'Epoch {epoch}')\n",
    "        loop.set_postfix(loss=loss.item())\n",
    "    avg_train_loss = total_train_loss / len(loader) # train data loader ############\n",
    "    tr_losses.append(avg_train_loss)\n",
    "    \n",
    "    # validation\n",
    "    model.eval()\n",
    "\n",
    "    # Tracking variables    \n",
    "    total_eval_loss = 0\n",
    "    nb_eval_steps = 0\n",
    "    \n",
    "    valloop = tqdm(valloader, leave=True)\n",
    "    for valbatch in valloop:\n",
    "        valinput_ids = valbatch['input_ids'].to(device)\n",
    "        valattention_mask = valbatch['attention_mask'].to(device)\n",
    "        vallabels = valbatch['labels'].to(device)\n",
    "        with torch.no_grad():\n",
    "            valoutputs = model(valinput_ids, attention_mask=valattention_mask,\n",
    "                        labels=vallabels)\n",
    "            valloss = valoutputs.loss\n",
    "            val_loss_hist.append(valloss)\n",
    "            total_eval_loss += loss.item()\n",
    "    avg_val_loss = total_eval_loss / len(valloader)\n",
    "    vl_losses.append(avg_val_loss)"
   ]
  },
  {
   "cell_type": "code",
   "execution_count": 13,
   "id": "cb715c8d",
   "metadata": {},
   "outputs": [],
   "source": [
    "import matplotlib.pyplot as plt\n",
    "plt.style.use('seaborn-whitegrid')\n",
    "import numpy as np"
   ]
  },
  {
   "cell_type": "code",
   "execution_count": 14,
   "id": "0d9ee71e",
   "metadata": {},
   "outputs": [
    {
     "name": "stdout",
     "output_type": "stream",
     "text": [
      "tensor(0.0582, device='cuda:0', grad_fn=<NllLossBackward>)\n"
     ]
    },
    {
     "data": {
      "text/plain": [
       "[<matplotlib.lines.Line2D at 0x27df9f92d00>]"
      ]
     },
     "execution_count": 14,
     "metadata": {},
     "output_type": "execute_result"
    },
    {
     "data": {
      "image/png": "[encoded data removed]",
      "text/plain": [
       "<Figure size 432x288 with 1 Axes>"
      ]
     },
     "metadata": {},
     "output_type": "display_data"
    }
   ],
   "source": [
    "print(min(loss_hist))\n",
    "losses = [x.to('cpu').detach().numpy() for x in loss_hist]\n",
    "plt.plot(losses)"
   ]
  },
  {
   "cell_type": "code",
   "execution_count": 15,
   "id": "9658b98d",
   "metadata": {},
   "outputs": [
    {
     "data": {
      "text/plain": [
       "tensor(0.0962, device='cuda:0')"
      ]
     },
     "execution_count": 15,
     "metadata": {},
     "output_type": "execute_result"
    }
   ],
   "source": [
    "min(val_loss_hist)"
   ]
  },
  {
   "cell_type": "code",
   "execution_count": 16,
   "id": "33036147",
   "metadata": {},
   "outputs": [
    {
     "data": {
      "text/plain": [
       "[<matplotlib.lines.Line2D at 0x27e0c05d1c0>]"
      ]
     },
     "execution_count": 16,
     "metadata": {},
     "output_type": "execute_result"
    },
    {
     "data": {
      "image/png": "[encoded data removed]",
      "text/plain": [
       "<Figure size 432x288 with 1 Axes>"
      ]
     },
     "metadata": {},
     "output_type": "display_data"
    }
   ],
   "source": [
    "val_losses = [x.to('cpu').detach().numpy() for x in val_loss_hist]\n",
    "plt.plot(val_losses)"
   ]
  },
  {
   "cell_type": "code",
   "execution_count": 17,
   "id": "a6beaa46",
   "metadata": {},
   "outputs": [
    {
     "data": {
      "text/plain": [
       "[<matplotlib.lines.Line2D at 0x27e13b85130>]"
      ]
     },
     "execution_count": 17,
     "metadata": {},
     "output_type": "execute_result"
    },
    {
     "data": {
      "image/png": "[encoded data removed]",
      "text/plain": [
       "<Figure size 432x288 with 1 Axes>"
      ]
     },
     "metadata": {},
     "output_type": "display_data"
    }
   ],
   "source": [
    "plt.plot(tr_losses)"
   ]
  },
  {
   "cell_type": "code",
   "execution_count": 18,
   "id": "0040850a",
   "metadata": {},
   "outputs": [
    {
     "data": {
      "text/plain": [
       "[<matplotlib.lines.Line2D at 0x27e1542abe0>]"
      ]
     },
     "execution_count": 18,
     "metadata": {},
     "output_type": "execute_result"
    },
    {
     "data": {
      "image/png": "[encoded data removed]",
      "text/plain": [
       "<Figure size 432x288 with 1 Axes>"
      ]
     },
     "metadata": {},
     "output_type": "display_data"
    }
   ],
   "source": [
    "plt.plot(vl_losses)"
   ]
  },
  {
   "cell_type": "markdown",
   "id": "3e867bcb",
   "metadata": {},
   "source": [
    "The training loss seems to very slowly go down. The validation loss oscillates between 0.5 and 1 - like mad. The model doen't train..."
   ]
  },
  {
   "cell_type": "markdown",
   "id": "c5b72344",
   "metadata": {},
   "source": [
    "### Test time"
   ]
  },
  {
   "cell_type": "code",
   "execution_count": 19,
   "id": "706b541c",
   "metadata": {},
   "outputs": [
    {
     "name": "stderr",
     "output_type": "stream",
     "text": [
      "C:\\Users\\Asus\\anaconda3\\envs\\torch\\lib\\site-packages\\torchaudio\\backend\\utils.py:67: UserWarning: No audio backend is available.\n",
      "  warnings.warn('No audio backend is available.')\n"
     ]
    }
   ],
   "source": [
    "from transformers import pipeline\n",
    "\n",
    "unmasker = pipeline(\"fill-mask\", model=model.to('cpu'), tokenizer=tokenizer)"
   ]
  },
  {
   "cell_type": "code",
   "execution_count": 20,
   "id": "d9a95770",
   "metadata": {},
   "outputs": [
    {
     "data": {
      "text/plain": [
       "[{'sequence': 'Скажіть, будь ласка, де?',\n",
       "  'score': 0.7749190330505371,\n",
       "  'token': 4,\n",
       "  'token_str': '<mask>'},\n",
       " {'sequence': 'Скажіть, будь ласка, де дочки?',\n",
       "  'score': 0.00014321312482934445,\n",
       "  'token': 23519,\n",
       "  'token_str': ' дочки'},\n",
       " {'sequence': 'Скажіть, будь ласка, де Миргород?',\n",
       "  'score': 0.000127349907415919,\n",
       "  'token': 19503,\n",
       "  'token_str': ' Миргород'},\n",
       " {'sequence': 'Скажіть, будь ласка, деуправ?',\n",
       "  'score': 0.00012594512372743338,\n",
       "  'token': 18658,\n",
       "  'token_str': 'управ'},\n",
       " {'sequence': 'Скажіть, будь ласка, децип?',\n",
       "  'score': 0.00011946725135203451,\n",
       "  'token': 1892,\n",
       "  'token_str': 'цип'}]"
      ]
     },
     "execution_count": 20,
     "metadata": {},
     "output_type": "execute_result"
    }
   ],
   "source": [
    "# could you plpease tell me where is...?\n",
    "unmasker(f'Скажіть, будь ласка, де  {unmasker.tokenizer.mask_token}?')"
   ]
  },
  {
   "cell_type": "markdown",
   "id": "603dc503",
   "metadata": {},
   "source": [
    "'Скажіть, будь ласка, де дочки?' makes sense. All the rest is rubbish"
   ]
  },
  {
   "cell_type": "code",
   "execution_count": 21,
   "id": "2c8bd978",
   "metadata": {},
   "outputs": [
    {
     "data": {
      "text/plain": [
       "[{'sequence': 'Скільки тобі?',\n",
       "  'score': 0.7047585248947144,\n",
       "  'token': 4,\n",
       "  'token_str': '<mask>'},\n",
       " {'sequence': 'Скільки тобі розпов?',\n",
       "  'score': 0.00019022943160962313,\n",
       "  'token': 3498,\n",
       "  'token_str': ' розпов'},\n",
       " {'sequence': 'Скільки тобі Миргород?',\n",
       "  'score': 0.00017983117140829563,\n",
       "  'token': 19503,\n",
       "  'token_str': ' Миргород'},\n",
       " {'sequence': 'Скільки тобіцип?',\n",
       "  'score': 0.00013609511370304972,\n",
       "  'token': 1892,\n",
       "  'token_str': 'цип'},\n",
       " {'sequence': 'Скільки тобі情?',\n",
       "  'score': 0.00012149316899012774,\n",
       "  'token': 12169,\n",
       "  'token_str': '情'}]"
      ]
     },
     "execution_count": 21,
     "metadata": {},
     "output_type": "execute_result"
    }
   ],
   "source": [
    "# How old are you?\n",
    "# Скільки тобі років?\n",
    "unmasker(f'Скільки тобі {unmasker.tokenizer.mask_token}?')"
   ]
  },
  {
   "cell_type": "markdown",
   "id": "135177bc",
   "metadata": {},
   "source": [
    "Nothing useful. It even got a Japanese kanji somewhere..."
   ]
  },
  {
   "cell_type": "code",
   "execution_count": 22,
   "id": "0272e02a",
   "metadata": {},
   "outputs": [
    {
     "data": {
      "text/plain": [
       "[{'sequence': 'Я хочу.',\n",
       "  'score': 0.6961378455162048,\n",
       "  'token': 4,\n",
       "  'token_str': '<mask>'},\n",
       " {'sequence': 'Я хочу розпов.',\n",
       "  'score': 0.00013790720549877733,\n",
       "  'token': 3498,\n",
       "  'token_str': ' розпов'},\n",
       " {'sequence': 'Я хочуure.',\n",
       "  'score': 0.00013763390597887337,\n",
       "  'token': 5084,\n",
       "  'token_str': 'ure'},\n",
       " {'sequence': 'Я хочу запорож.',\n",
       "  'score': 0.00013751609367318451,\n",
       "  'token': 28432,\n",
       "  'token_str': ' запорож'},\n",
       " {'sequence': 'Я хочуасти.',\n",
       "  'score': 0.00012212763249408454,\n",
       "  'token': 27558,\n",
       "  'token_str': 'асти'}]"
      ]
     },
     "execution_count": 22,
     "metadata": {},
     "output_type": "execute_result"
    }
   ],
   "source": [
    "# I am thirsty\n",
    "# Я хочу пити\n",
    "unmasker(f'Я хочу {unmasker.tokenizer.mask_token}.')"
   ]
  },
  {
   "cell_type": "markdown",
   "id": "84e3dbc6",
   "metadata": {},
   "source": [
    "Rubbish"
   ]
  },
  {
   "cell_type": "code",
   "execution_count": 23,
   "id": "4aa7311c",
   "metadata": {},
   "outputs": [
    {
     "data": {
      "text/plain": [
       "[{'sequence': ' хочу пити.',\n",
       "  'score': 0.43019357323646545,\n",
       "  'token': 4,\n",
       "  'token_str': '<mask>'},\n",
       " {'sequence': ' казки хочу пити.',\n",
       "  'score': 0.00032839810592122376,\n",
       "  'token': 16167,\n",
       "  'token_str': ' казки'},\n",
       " {'sequence': ' виконавці хочу пити.',\n",
       "  'score': 0.00025981722865253687,\n",
       "  'token': 29205,\n",
       "  'token_str': ' виконавці'},\n",
       " {'sequence': ' запорож хочу пити.',\n",
       "  'score': 0.00023996808158699423,\n",
       "  'token': 28432,\n",
       "  'token_str': ' запорож'},\n",
       " {'sequence': ' Миргород хочу пити.',\n",
       "  'score': 0.0002329059934709221,\n",
       "  'token': 19503,\n",
       "  'token_str': ' Миргород'}]"
      ]
     },
     "execution_count": 23,
     "metadata": {},
     "output_type": "execute_result"
    }
   ],
   "source": [
    "# I am thirsty\n",
    "# Я хочу пити\n",
    "unmasker(f'{unmasker.tokenizer.mask_token} хочу пити.')"
   ]
  },
  {
   "cell_type": "markdown",
   "id": "c434d1db",
   "metadata": {},
   "source": [
    "Rubbish again"
   ]
  },
  {
   "cell_type": "code",
   "execution_count": 24,
   "id": "7ce4c3c4",
   "metadata": {},
   "outputs": [
    {
     "data": {
      "text/plain": [
       "[{'sequence': ' повільніше, будь ласка.',\n",
       "  'score': 0.5522949695587158,\n",
       "  'token': 4,\n",
       "  'token_str': '<mask>'},\n",
       " {'sequence': ' Всього повільніше, будь ласка.',\n",
       "  'score': 0.0002453599008731544,\n",
       "  'token': 13600,\n",
       "  'token_str': ' Всього'},\n",
       " {'sequence': ' запорож повільніше, будь ласка.',\n",
       "  'score': 0.00023034299374558032,\n",
       "  'token': 28432,\n",
       "  'token_str': ' запорож'},\n",
       " {'sequence': 'Відбу повільніше, будь ласка.',\n",
       "  'score': 0.0002176444249926135,\n",
       "  'token': 23635,\n",
       "  'token_str': 'Відбу'},\n",
       " {'sequence': ' Миргород повільніше, будь ласка.',\n",
       "  'score': 0.00021698330237995833,\n",
       "  'token': 19503,\n",
       "  'token_str': ' Миргород'}]"
      ]
     },
     "execution_count": 24,
     "metadata": {},
     "output_type": "execute_result"
    }
   ],
   "source": [
    "# Speak slower please\n",
    "# Говоріть повільніше, будь ласка\n",
    "unmasker(f'{unmasker.tokenizer.mask_token} повільніше, будь ласка.')"
   ]
  },
  {
   "cell_type": "code",
   "execution_count": null,
   "id": "e83a6864",
   "metadata": {},
   "outputs": [],
   "source": []
  },
  {
   "cell_type": "code",
   "execution_count": 25,
   "id": "f811a7bc",
   "metadata": {},
   "outputs": [
    {
     "data": {
      "text/plain": [
       "[{'sequence': 'Скільки це?',\n",
       "  'score': 0.707546591758728,\n",
       "  'token': 4,\n",
       "  'token_str': '<mask>'},\n",
       " {'sequence': 'Скільки це розпов?',\n",
       "  'score': 0.00018940145673695952,\n",
       "  'token': 3498,\n",
       "  'token_str': ' розпов'},\n",
       " {'sequence': 'Скільки це Миргород?',\n",
       "  'score': 0.00018089245713781565,\n",
       "  'token': 19503,\n",
       "  'token_str': ' Миргород'},\n",
       " {'sequence': 'Скільки цецип?',\n",
       "  'score': 0.0001479090133216232,\n",
       "  'token': 1892,\n",
       "  'token_str': 'цип'},\n",
       " {'sequence': 'Скільки це дочки?',\n",
       "  'score': 0.00014013497275300324,\n",
       "  'token': 23519,\n",
       "  'token_str': ' дочки'}]"
      ]
     },
     "execution_count": 25,
     "metadata": {},
     "output_type": "execute_result"
    }
   ],
   "source": [
    "# How much is this?\n",
    "# Скільки це коштує?\n",
    "unmasker(f'Скільки це {unmasker.tokenizer.mask_token} ?')"
   ]
  },
  {
   "cell_type": "code",
   "execution_count": null,
   "id": "fd18bfea",
   "metadata": {},
   "outputs": [],
   "source": []
  },
  {
   "cell_type": "code",
   "execution_count": 26,
   "id": "42c8cebf",
   "metadata": {},
   "outputs": [
    {
     "data": {
      "text/plain": [
       "[{'sequence': ' побачення!',\n",
       "  'score': 0.48383525013923645,\n",
       "  'token': 4,\n",
       "  'token_str': '<mask>'},\n",
       " {'sequence': ' комітетів побачення!',\n",
       "  'score': 0.0003013308742083609,\n",
       "  'token': 21717,\n",
       "  'token_str': ' комітетів'},\n",
       " {'sequence': '2008 побачення!',\n",
       "  'score': 0.0002784871612675488,\n",
       "  'token': 8542,\n",
       "  'token_str': '2008'},\n",
       " {'sequence': ' Миргород побачення!',\n",
       "  'score': 0.00023597262043040246,\n",
       "  'token': 19503,\n",
       "  'token_str': ' Миргород'},\n",
       " {'sequence': ' казки побачення!',\n",
       "  'score': 0.00022960154456086457,\n",
       "  'token': 16167,\n",
       "  'token_str': ' казки'}]"
      ]
     },
     "execution_count": 26,
     "metadata": {},
     "output_type": "execute_result"
    }
   ],
   "source": [
    "# Bye!\n",
    "# До побачення!\n",
    "unmasker(f'{unmasker.tokenizer.mask_token} побачення!')"
   ]
  },
  {
   "cell_type": "markdown",
   "id": "7d241955",
   "metadata": {},
   "source": [
    "Nonsense"
   ]
  },
  {
   "cell_type": "code",
   "execution_count": null,
   "id": "dbbec02d",
   "metadata": {},
   "outputs": [],
   "source": []
  }
 ],
 "metadata": {
  "kernelspec": {
   "display_name": "Python 3",
   "language": "python",
   "name": "python3"
  },
  "language_info": {
   "codemirror_mode": {
    "name": "ipython",
    "version": 3
   },
   "file_extension": ".py",
   "mimetype": "text/x-python",
   "name": "python",
   "nbconvert_exporter": "python",
   "pygments_lexer": "ipython3",
   "version": "3.8.8"
  }
 },
 "nbformat": 4,
 "nbformat_minor": 5
}
