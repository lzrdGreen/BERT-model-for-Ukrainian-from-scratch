{
 "cells": [
  {
   "cell_type": "code",
   "execution_count": 1,
   "id": "79dcc8ea",
   "metadata": {},
   "outputs": [],
   "source": [
    "from tqdm.auto import tqdm"
   ]
  },
  {
   "cell_type": "markdown",
   "id": "95bab47d",
   "metadata": {},
   "source": [
    "### Train the Tokenizer"
   ]
  },
  {
   "cell_type": "code",
   "execution_count": 2,
   "id": "3c43a1af",
   "metadata": {},
   "outputs": [],
   "source": [
    "from tokenizers import ByteLevelBPETokenizer\n",
    "\n",
    "tokenizer = ByteLevelBPETokenizer()"
   ]
  },
  {
   "cell_type": "code",
   "execution_count": 3,
   "id": "751cac81",
   "metadata": {},
   "outputs": [],
   "source": [
    "from pathlib import Path\n",
    "paths = [str(x) for x in Path('./data/text/oscar_uk').glob('**/*.txt')]"
   ]
  },
  {
   "cell_type": "code",
   "execution_count": 4,
   "id": "0c7dac03",
   "metadata": {},
   "outputs": [],
   "source": [
    "tokenizer.train(files=paths[:10], vocab_size=30_522, min_frequency=2,\n",
    "                special_tokens=['<s>', '<pad>', '</s>', '<unk>', '<mask>'])"
   ]
  },
  {
   "cell_type": "code",
   "execution_count": 5,
   "id": "f7621d0f",
   "metadata": {},
   "outputs": [
    {
     "data": {
      "text/plain": [
       "['panas1\\\\vocab.json', 'panas1\\\\merges.txt']"
      ]
     },
     "execution_count": 5,
     "metadata": {},
     "output_type": "execute_result"
    }
   ],
   "source": [
    "import os\n",
    "\n",
    "os.mkdir('panas1')\n",
    "tokenizer.save_model('panas1')"
   ]
  },
  {
   "cell_type": "code",
   "execution_count": 6,
   "id": "07d3bf96",
   "metadata": {},
   "outputs": [
    {
     "name": "stderr",
     "output_type": "stream",
     "text": [
      "file panas1\\config.json not found\n"
     ]
    }
   ],
   "source": [
    "from transformers import RobertaTokenizer\n",
    "\n",
    "# initialize the tokenizer using the tokenizer we initialized and saved to file\n",
    "tokenizer = RobertaTokenizer.from_pretrained('panas1', max_len=512)"
   ]
  },
  {
   "cell_type": "code",
   "execution_count": 7,
   "id": "b401b398",
   "metadata": {},
   "outputs": [
    {
     "data": {
      "text/plain": [
       "{'input_ids': [0, 902, 1885, 7463, 653, 27778, 19877, 5365, 331, 9141, 16, 2506, 3519, 5651, 15246, 9890, 327, 17484, 9404, 16, 2112, 11192, 348, 23554, 684, 18814, 5216, 342, 5797, 385, 345, 26741, 14294, 320, 8025, 543, 1242, 1144, 342, 15211, 18, 545, 15498, 611, 17484, 8459, 4577, 1552, 2466, 1336, 2652, 23293, 345, 997, 14620, 18, 2, 1, 1, 1, 1, 1, 1, 1, 1, 1, 1, 1, 1, 1, 1, 1, 1, 1, 1, 1, 1, 1, 1, 1, 1, 1, 1, 1, 1, 1, 1, 1, 1, 1, 1, 1, 1, 1, 1, 1, 1, 1, 1, 1, 1, 1, 1, 1, 1, 1, 1, 1, 1, 1, 1, 1, 1, 1, 1, 1, 1, 1, 1, 1, 1, 1, 1, 1, 1, 1, 1, 1, 1, 1, 1, 1, 1, 1, 1, 1, 1, 1, 1, 1, 1, 1, 1, 1, 1, 1, 1, 1, 1, 1, 1, 1, 1, 1, 1, 1, 1, 1, 1, 1, 1, 1, 1, 1, 1, 1, 1, 1, 1, 1, 1, 1, 1, 1, 1, 1, 1, 1, 1, 1, 1, 1, 1, 1, 1, 1, 1, 1, 1, 1, 1, 1, 1, 1, 1, 1, 1, 1, 1, 1, 1, 1, 1, 1, 1, 1, 1, 1, 1, 1, 1, 1, 1, 1, 1, 1, 1, 1, 1, 1, 1, 1, 1, 1, 1, 1, 1, 1, 1, 1, 1, 1, 1, 1, 1, 1, 1, 1, 1, 1, 1, 1, 1, 1, 1, 1, 1, 1, 1, 1, 1, 1, 1, 1, 1, 1, 1, 1, 1, 1, 1, 1, 1, 1, 1, 1, 1, 1, 1, 1, 1, 1, 1, 1, 1, 1, 1, 1, 1, 1, 1, 1, 1, 1, 1, 1, 1, 1, 1, 1, 1, 1, 1, 1, 1, 1, 1, 1, 1, 1, 1, 1, 1, 1, 1, 1, 1, 1, 1, 1, 1, 1, 1, 1, 1, 1, 1, 1, 1, 1, 1, 1, 1, 1, 1, 1, 1, 1, 1, 1, 1, 1, 1, 1, 1, 1, 1, 1, 1, 1, 1, 1, 1, 1, 1, 1, 1, 1, 1, 1, 1, 1, 1, 1, 1, 1, 1, 1, 1, 1, 1, 1, 1, 1, 1, 1, 1, 1, 1, 1, 1, 1, 1, 1, 1, 1, 1, 1, 1, 1, 1, 1, 1, 1, 1, 1, 1, 1, 1, 1, 1, 1, 1, 1, 1, 1, 1, 1, 1, 1, 1, 1, 1, 1, 1, 1, 1, 1, 1, 1, 1, 1, 1, 1, 1, 1, 1, 1, 1, 1, 1, 1, 1, 1, 1, 1, 1, 1, 1, 1, 1, 1, 1, 1, 1, 1, 1, 1, 1, 1, 1, 1, 1, 1, 1, 1, 1, 1, 1, 1, 1, 1, 1, 1, 1, 1, 1, 1, 1, 1, 1, 1, 1, 1, 1, 1, 1, 1, 1, 1, 1, 1, 1, 1, 1, 1, 1, 1, 1, 1, 1, 1, 1, 1, 1, 1, 1, 1, 1, 1, 1, 1, 1, 1, 1, 1, 1, 1, 1, 1, 1, 1, 1, 1, 1, 1, 1, 1, 1, 1, 1, 1], 'attention_mask': [1, 1, 1, 1, 1, 1, 1, 1, 1, 1, 1, 1, 1, 1, 1, 1, 1, 1, 1, 1, 1, 1, 1, 1, 1, 1, 1, 1, 1, 1, 1, 1, 1, 1, 1, 1, 1, 1, 1, 1, 1, 1, 1, 1, 1, 1, 1, 1, 1, 1, 1, 1, 1, 1, 1, 1, 1, 0, 0, 0, 0, 0, 0, 0, 0, 0, 0, 0, 0, 0, 0, 0, 0, 0, 0, 0, 0, 0, 0, 0, 0, 0, 0, 0, 0, 0, 0, 0, 0, 0, 0, 0, 0, 0, 0, 0, 0, 0, 0, 0, 0, 0, 0, 0, 0, 0, 0, 0, 0, 0, 0, 0, 0, 0, 0, 0, 0, 0, 0, 0, 0, 0, 0, 0, 0, 0, 0, 0, 0, 0, 0, 0, 0, 0, 0, 0, 0, 0, 0, 0, 0, 0, 0, 0, 0, 0, 0, 0, 0, 0, 0, 0, 0, 0, 0, 0, 0, 0, 0, 0, 0, 0, 0, 0, 0, 0, 0, 0, 0, 0, 0, 0, 0, 0, 0, 0, 0, 0, 0, 0, 0, 0, 0, 0, 0, 0, 0, 0, 0, 0, 0, 0, 0, 0, 0, 0, 0, 0, 0, 0, 0, 0, 0, 0, 0, 0, 0, 0, 0, 0, 0, 0, 0, 0, 0, 0, 0, 0, 0, 0, 0, 0, 0, 0, 0, 0, 0, 0, 0, 0, 0, 0, 0, 0, 0, 0, 0, 0, 0, 0, 0, 0, 0, 0, 0, 0, 0, 0, 0, 0, 0, 0, 0, 0, 0, 0, 0, 0, 0, 0, 0, 0, 0, 0, 0, 0, 0, 0, 0, 0, 0, 0, 0, 0, 0, 0, 0, 0, 0, 0, 0, 0, 0, 0, 0, 0, 0, 0, 0, 0, 0, 0, 0, 0, 0, 0, 0, 0, 0, 0, 0, 0, 0, 0, 0, 0, 0, 0, 0, 0, 0, 0, 0, 0, 0, 0, 0, 0, 0, 0, 0, 0, 0, 0, 0, 0, 0, 0, 0, 0, 0, 0, 0, 0, 0, 0, 0, 0, 0, 0, 0, 0, 0, 0, 0, 0, 0, 0, 0, 0, 0, 0, 0, 0, 0, 0, 0, 0, 0, 0, 0, 0, 0, 0, 0, 0, 0, 0, 0, 0, 0, 0, 0, 0, 0, 0, 0, 0, 0, 0, 0, 0, 0, 0, 0, 0, 0, 0, 0, 0, 0, 0, 0, 0, 0, 0, 0, 0, 0, 0, 0, 0, 0, 0, 0, 0, 0, 0, 0, 0, 0, 0, 0, 0, 0, 0, 0, 0, 0, 0, 0, 0, 0, 0, 0, 0, 0, 0, 0, 0, 0, 0, 0, 0, 0, 0, 0, 0, 0, 0, 0, 0, 0, 0, 0, 0, 0, 0, 0, 0, 0, 0, 0, 0, 0, 0, 0, 0, 0, 0, 0, 0, 0, 0, 0, 0, 0, 0, 0, 0, 0, 0, 0, 0, 0, 0, 0, 0, 0, 0, 0, 0, 0, 0, 0, 0, 0, 0, 0, 0, 0, 0, 0, 0, 0, 0, 0, 0, 0, 0, 0, 0, 0, 0, 0, 0, 0, 0, 0, 0, 0, 0]}"
      ]
     },
     "execution_count": 7,
     "metadata": {},
     "output_type": "execute_result"
    }
   ],
   "source": [
    "txt = (\n",
    "    \"На території Собору Святої Софії Київської у неділю, 22 серпня відбулася божественна літургія, яку \"\n",
    "    \"очолили Вселенський патріарх Варфоломій та митрополит Київський і всієї України Епіфаній.\"\n",
    "    \"У соборній літургії взяли участь майже 15 тисяч священиків та вірян.\"\n",
    ")\n",
    "tokenizer(txt, max_length=512, padding='max_length', truncation=True)"
   ]
  },
  {
   "cell_type": "markdown",
   "id": "43697e55",
   "metadata": {},
   "source": [
    "### Input Pipeline"
   ]
  },
  {
   "cell_type": "code",
   "execution_count": 8,
   "id": "f38dfaf9",
   "metadata": {},
   "outputs": [
    {
     "data": {
      "text/plain": [
       "2"
      ]
     },
     "execution_count": 8,
     "metadata": {},
     "output_type": "execute_result"
    }
   ],
   "source": [
    "with open('./data/text/oscar_uk/text_0.txt', 'r', encoding='utf-8') as fp:\n",
    "    lines = fp.read().split('\\n')\n",
    "batch = tokenizer(lines, max_length=512, padding='max_length', truncation=True)\n",
    "len(batch)"
   ]
  },
  {
   "cell_type": "code",
   "execution_count": 9,
   "id": "7acd228c",
   "metadata": {},
   "outputs": [
    {
     "data": {
      "text/plain": [
       "torch.Size([5000, 512])"
      ]
     },
     "execution_count": 9,
     "metadata": {},
     "output_type": "execute_result"
    }
   ],
   "source": [
    "import torch\n",
    "\n",
    "labels = torch.tensor([x for x in batch['input_ids']])\n",
    "mask = torch.tensor([x for x in batch['attention_mask']])\n",
    "\n",
    "# make copy of labels tensor, this will be input_ids\n",
    "input_ids = labels.detach().clone()\n",
    "\n",
    "# create random array of floats with equal dims to input_ids\n",
    "rand = torch.rand(input_ids.shape)\n",
    "\n",
    "# mask random 15% where token is not 0 [PAD], 1 [CLS], or 2 [SEP]\n",
    "mask_arr = (rand < .15) * (input_ids != 0) * (input_ids != 1) * (input_ids != 2)\n",
    "\n",
    "# loop through each row in input_ids tensor (cannot do in parallel)\n",
    "for i in range(input_ids.shape[0]):\n",
    "    # get indices of mask positions from mask array\n",
    "    selection = torch.flatten(mask_arr[i].nonzero()).tolist()\n",
    "    # mask input_ids\n",
    "    input_ids[i, selection] = 3  # our custom [MASK] token == 3\n",
    "input_ids.shape"
   ]
  },
  {
   "cell_type": "code",
   "execution_count": 11,
   "id": "33a1b920",
   "metadata": {},
   "outputs": [
    {
     "name": "stdout",
     "output_type": "stream",
     "text": [
      "5000 5000\n"
     ]
    }
   ],
   "source": [
    "print(len(lines), len(labels))"
   ]
  },
  {
   "cell_type": "code",
   "execution_count": 12,
   "id": "0e506882",
   "metadata": {},
   "outputs": [
    {
     "data": {
      "text/plain": [
       "'Суд позбавив А. і Волкова офіцерських звань і вийшов з представленням до ПВР СРСР про позбавлення їх державних нагород, також постановив знищити рукописи А. і Волкова «как предметы, не представляющие никакой ценности».22.12.1982 р. А. етапом вивезений у Мордовію. У табір ЖХ-385/3-4, що в сел. Барашево Теньгушовського р-ну, прибув 30.12. Тут були політв`язні В. СТРІЛЬЦІВ, Ю. БАДЗЬО, Ю. МЕЛЬНИК, Д. МАЗУР, пізніше Володимир Делидівка, Г. КУЦЕНКО, Євген Анцупов, Г. АЛТУНЯН.Оскільки вирок А. був надто інформативний (28 с.), його на руки не дали. Зона ж вимагала: «Покажи вирок». Тоді А. попросив спецчастину надати йому вирок для написання скарги. Його зачинили під замок, але він передав вирок через кватирку в зону. Його прочитали і повернули.Політв΄язні-«антирадянщики» (чоловік 30–40) становили кістяк табору. Вивчали юриспруденцію, писали скарги та заяви, відзначати голодівками День політв\\x92язня – 30 жовтня та 10 грудня – День прав людини, сиділи в карцерах. По неділях влаштовували своєрідні семінари з обміну прочитаним. Робота – шиття рукавиць – і режим здавалися неважкими. Це була справжня школа, яка пригодилася згодом на волі.У грудні 1986 Теньгушовський районний суд виніс вирок: перевести А. на тюремне утримання до кінця терміну. Тримали в БУРі. Та в лютому 1987 р. його разом з іншими в`язнями вивезли етапом у Москву, відтак у Київ. Тоді під тиском Заходу в СРСР почалася кампанія звільнення політв`язнів. Вимагалося небагато: письмово пообіцяти, що не будеш порушувати закону. Розмову про це влаштували в присутності батька і сестри Наталі (дружина тим часом розірвала шлюб). А. написав, що не вважає себе винним, але вітав ліквідацію інституту політв\\x92язнів, зобов\\x92язався дотримуватися закону, проте буде вимагати, щоб закону дотримувалася і влада. 16.03.1987 р. А. звільнений за Указом ПВР СРСР від 12.03 про помилування.Жив у Києві у батьків, а працював у будівельній бригаді в радгоспі \"Бортничі\". Одружився з Ніною Мостепановою.З΄їздив у Москву, встановив контакти з дисидентськими колами, зокрема, з Сергієм Григорянцом, який видавав журнал \"Гласность\".Коли влітку 1987 р. за ініціативою С. НАБОКИ виник Український культурологічний клуб, А. підтримував контакти з ним.Клопотаннями В.Волкова, пленум Верховного Суду СРСР на протест Голови Верховного суду СРСР 27.09. 1988 р. скасував вирок і справу переведенням припинив за відсутністю складу злочину. За реабілітацією, після року зволікань, А. повернути житло, сплатити компенсацію, за яку зміг купити меблі.Восени 1988 А. вступив у Демократичний Союз (лідер В. Новодворська). Брав участь у написанні Програми партії. З розвалом СРСР робота Київської організації ДС припинилася. Для А. завжди найважливішими були загальнодемократичні норми. Коли ж виникла українська національна держава, він засів за історію. А. співпрацює з Міжнародним товариством (колишніх) Радянських Політв`язнів, входить в Українську секцію, яка опікується політв\\x92язнями і репресованими, надає їм гуманітарну допомогу, також багатодітним, дитячим будинкам. Дійсний член Української секції Міжнародного товариства прав людини, постійно бере участь у проведенні Міжнародних конкурсів шкільних та студентських робіт з прав людини. Живе в Києві.'"
      ]
     },
     "execution_count": 12,
     "metadata": {},
     "output_type": "execute_result"
    }
   ],
   "source": [
    "lines[10]"
   ]
  },
  {
   "cell_type": "markdown",
   "id": "6067c64d",
   "metadata": {},
   "source": [
    "### Build the DataLoader"
   ]
  },
  {
   "cell_type": "code",
   "execution_count": 10,
   "id": "4db46098",
   "metadata": {},
   "outputs": [],
   "source": [
    "class Dataset(torch.utils.data.Dataset):\n",
    "    def __init__(self, encodings):\n",
    "        # store encodings internally\n",
    "        self.encodings = encodings\n",
    "\n",
    "    def __len__(self):\n",
    "        # return the number of samples\n",
    "        return self.encodings['input_ids'].shape[0]\n",
    "\n",
    "    def __getitem__(self, i):\n",
    "        # return dictionary of input_ids, attention_mask, and labels for index i\n",
    "        return {key: tensor[i] for key, tensor in self.encodings.items()}"
   ]
  },
  {
   "cell_type": "code",
   "execution_count": 13,
   "id": "db916142",
   "metadata": {},
   "outputs": [],
   "source": [
    "encodings = {'input_ids': input_ids, 'attention_mask': mask, 'labels': labels}\n",
    "dataset = Dataset(encodings)\n",
    "loader = torch.utils.data.DataLoader(dataset, batch_size=8, shuffle=True) # CUDA out of memory if batch_size=16"
   ]
  },
  {
   "cell_type": "code",
   "execution_count": 14,
   "id": "e012f0bc",
   "metadata": {},
   "outputs": [],
   "source": [
    "from transformers import RobertaConfig\n",
    "\n",
    "config = RobertaConfig(\n",
    "    vocab_size=30_522,  # we align this to the tokenizer vocab_size\n",
    "    max_position_embeddings=514,\n",
    "    hidden_size=768,\n",
    "    num_attention_heads=12,\n",
    "    num_hidden_layers=6,\n",
    "    type_vocab_size=1\n",
    ")"
   ]
  },
  {
   "cell_type": "code",
   "execution_count": 15,
   "id": "811ae5be",
   "metadata": {},
   "outputs": [
    {
     "data": {
      "text/plain": [
       "RobertaForMaskedLM(\n",
       "  (roberta): RobertaModel(\n",
       "    (embeddings): RobertaEmbeddings(\n",
       "      (word_embeddings): Embedding(30522, 768, padding_idx=1)\n",
       "      (position_embeddings): Embedding(514, 768, padding_idx=1)\n",
       "      (token_type_embeddings): Embedding(1, 768)\n",
       "      (LayerNorm): LayerNorm((768,), eps=1e-12, elementwise_affine=True)\n",
       "      (dropout): Dropout(p=0.1, inplace=False)\n",
       "    )\n",
       "    (encoder): RobertaEncoder(\n",
       "      (layer): ModuleList(\n",
       "        (0): RobertaLayer(\n",
       "          (attention): RobertaAttention(\n",
       "            (self): RobertaSelfAttention(\n",
       "              (query): Linear(in_features=768, out_features=768, bias=True)\n",
       "              (key): Linear(in_features=768, out_features=768, bias=True)\n",
       "              (value): Linear(in_features=768, out_features=768, bias=True)\n",
       "              (dropout): Dropout(p=0.1, inplace=False)\n",
       "            )\n",
       "            (output): RobertaSelfOutput(\n",
       "              (dense): Linear(in_features=768, out_features=768, bias=True)\n",
       "              (LayerNorm): LayerNorm((768,), eps=1e-12, elementwise_affine=True)\n",
       "              (dropout): Dropout(p=0.1, inplace=False)\n",
       "            )\n",
       "          )\n",
       "          (intermediate): RobertaIntermediate(\n",
       "            (dense): Linear(in_features=768, out_features=3072, bias=True)\n",
       "          )\n",
       "          (output): RobertaOutput(\n",
       "            (dense): Linear(in_features=3072, out_features=768, bias=True)\n",
       "            (LayerNorm): LayerNorm((768,), eps=1e-12, elementwise_affine=True)\n",
       "            (dropout): Dropout(p=0.1, inplace=False)\n",
       "          )\n",
       "        )\n",
       "        (1): RobertaLayer(\n",
       "          (attention): RobertaAttention(\n",
       "            (self): RobertaSelfAttention(\n",
       "              (query): Linear(in_features=768, out_features=768, bias=True)\n",
       "              (key): Linear(in_features=768, out_features=768, bias=True)\n",
       "              (value): Linear(in_features=768, out_features=768, bias=True)\n",
       "              (dropout): Dropout(p=0.1, inplace=False)\n",
       "            )\n",
       "            (output): RobertaSelfOutput(\n",
       "              (dense): Linear(in_features=768, out_features=768, bias=True)\n",
       "              (LayerNorm): LayerNorm((768,), eps=1e-12, elementwise_affine=True)\n",
       "              (dropout): Dropout(p=0.1, inplace=False)\n",
       "            )\n",
       "          )\n",
       "          (intermediate): RobertaIntermediate(\n",
       "            (dense): Linear(in_features=768, out_features=3072, bias=True)\n",
       "          )\n",
       "          (output): RobertaOutput(\n",
       "            (dense): Linear(in_features=3072, out_features=768, bias=True)\n",
       "            (LayerNorm): LayerNorm((768,), eps=1e-12, elementwise_affine=True)\n",
       "            (dropout): Dropout(p=0.1, inplace=False)\n",
       "          )\n",
       "        )\n",
       "        (2): RobertaLayer(\n",
       "          (attention): RobertaAttention(\n",
       "            (self): RobertaSelfAttention(\n",
       "              (query): Linear(in_features=768, out_features=768, bias=True)\n",
       "              (key): Linear(in_features=768, out_features=768, bias=True)\n",
       "              (value): Linear(in_features=768, out_features=768, bias=True)\n",
       "              (dropout): Dropout(p=0.1, inplace=False)\n",
       "            )\n",
       "            (output): RobertaSelfOutput(\n",
       "              (dense): Linear(in_features=768, out_features=768, bias=True)\n",
       "              (LayerNorm): LayerNorm((768,), eps=1e-12, elementwise_affine=True)\n",
       "              (dropout): Dropout(p=0.1, inplace=False)\n",
       "            )\n",
       "          )\n",
       "          (intermediate): RobertaIntermediate(\n",
       "            (dense): Linear(in_features=768, out_features=3072, bias=True)\n",
       "          )\n",
       "          (output): RobertaOutput(\n",
       "            (dense): Linear(in_features=3072, out_features=768, bias=True)\n",
       "            (LayerNorm): LayerNorm((768,), eps=1e-12, elementwise_affine=True)\n",
       "            (dropout): Dropout(p=0.1, inplace=False)\n",
       "          )\n",
       "        )\n",
       "        (3): RobertaLayer(\n",
       "          (attention): RobertaAttention(\n",
       "            (self): RobertaSelfAttention(\n",
       "              (query): Linear(in_features=768, out_features=768, bias=True)\n",
       "              (key): Linear(in_features=768, out_features=768, bias=True)\n",
       "              (value): Linear(in_features=768, out_features=768, bias=True)\n",
       "              (dropout): Dropout(p=0.1, inplace=False)\n",
       "            )\n",
       "            (output): RobertaSelfOutput(\n",
       "              (dense): Linear(in_features=768, out_features=768, bias=True)\n",
       "              (LayerNorm): LayerNorm((768,), eps=1e-12, elementwise_affine=True)\n",
       "              (dropout): Dropout(p=0.1, inplace=False)\n",
       "            )\n",
       "          )\n",
       "          (intermediate): RobertaIntermediate(\n",
       "            (dense): Linear(in_features=768, out_features=3072, bias=True)\n",
       "          )\n",
       "          (output): RobertaOutput(\n",
       "            (dense): Linear(in_features=3072, out_features=768, bias=True)\n",
       "            (LayerNorm): LayerNorm((768,), eps=1e-12, elementwise_affine=True)\n",
       "            (dropout): Dropout(p=0.1, inplace=False)\n",
       "          )\n",
       "        )\n",
       "        (4): RobertaLayer(\n",
       "          (attention): RobertaAttention(\n",
       "            (self): RobertaSelfAttention(\n",
       "              (query): Linear(in_features=768, out_features=768, bias=True)\n",
       "              (key): Linear(in_features=768, out_features=768, bias=True)\n",
       "              (value): Linear(in_features=768, out_features=768, bias=True)\n",
       "              (dropout): Dropout(p=0.1, inplace=False)\n",
       "            )\n",
       "            (output): RobertaSelfOutput(\n",
       "              (dense): Linear(in_features=768, out_features=768, bias=True)\n",
       "              (LayerNorm): LayerNorm((768,), eps=1e-12, elementwise_affine=True)\n",
       "              (dropout): Dropout(p=0.1, inplace=False)\n",
       "            )\n",
       "          )\n",
       "          (intermediate): RobertaIntermediate(\n",
       "            (dense): Linear(in_features=768, out_features=3072, bias=True)\n",
       "          )\n",
       "          (output): RobertaOutput(\n",
       "            (dense): Linear(in_features=3072, out_features=768, bias=True)\n",
       "            (LayerNorm): LayerNorm((768,), eps=1e-12, elementwise_affine=True)\n",
       "            (dropout): Dropout(p=0.1, inplace=False)\n",
       "          )\n",
       "        )\n",
       "        (5): RobertaLayer(\n",
       "          (attention): RobertaAttention(\n",
       "            (self): RobertaSelfAttention(\n",
       "              (query): Linear(in_features=768, out_features=768, bias=True)\n",
       "              (key): Linear(in_features=768, out_features=768, bias=True)\n",
       "              (value): Linear(in_features=768, out_features=768, bias=True)\n",
       "              (dropout): Dropout(p=0.1, inplace=False)\n",
       "            )\n",
       "            (output): RobertaSelfOutput(\n",
       "              (dense): Linear(in_features=768, out_features=768, bias=True)\n",
       "              (LayerNorm): LayerNorm((768,), eps=1e-12, elementwise_affine=True)\n",
       "              (dropout): Dropout(p=0.1, inplace=False)\n",
       "            )\n",
       "          )\n",
       "          (intermediate): RobertaIntermediate(\n",
       "            (dense): Linear(in_features=768, out_features=3072, bias=True)\n",
       "          )\n",
       "          (output): RobertaOutput(\n",
       "            (dense): Linear(in_features=3072, out_features=768, bias=True)\n",
       "            (LayerNorm): LayerNorm((768,), eps=1e-12, elementwise_affine=True)\n",
       "            (dropout): Dropout(p=0.1, inplace=False)\n",
       "          )\n",
       "        )\n",
       "      )\n",
       "    )\n",
       "  )\n",
       "  (lm_head): RobertaLMHead(\n",
       "    (dense): Linear(in_features=768, out_features=768, bias=True)\n",
       "    (layer_norm): LayerNorm((768,), eps=1e-12, elementwise_affine=True)\n",
       "    (decoder): Linear(in_features=768, out_features=30522, bias=True)\n",
       "  )\n",
       ")"
      ]
     },
     "execution_count": 15,
     "metadata": {},
     "output_type": "execute_result"
    }
   ],
   "source": [
    "from transformers import RobertaForMaskedLM\n",
    "\n",
    "model = RobertaForMaskedLM(config)\n",
    "\n",
    "device = torch.device('cuda') if torch.cuda.is_available() else torch.device('cpu')\n",
    "model.to(device)"
   ]
  },
  {
   "cell_type": "code",
   "execution_count": 16,
   "id": "f7b471dd",
   "metadata": {},
   "outputs": [],
   "source": [
    "from transformers import AdamW\n",
    "\n",
    "# activate training mode\n",
    "model.train()\n",
    "# initialize optimizer\n",
    "optim = AdamW(model.parameters(), lr=1e-4)"
   ]
  },
  {
   "cell_type": "code",
   "execution_count": 17,
   "id": "642dfd30",
   "metadata": {},
   "outputs": [
    {
     "data": {
      "application/vnd.jupyter.widget-view+json": {
       "model_id": "a4969ba75a3c466eba4c6752129237a9",
       "version_major": 2,
       "version_minor": 0
      },
      "text/plain": [
       "  0%|          | 0/625 [00:00<?, ?it/s]"
      ]
     },
     "metadata": {},
     "output_type": "display_data"
    }
   ],
   "source": [
    "epochs = 1\n",
    "loss_hist = []\n",
    "for epoch in range(epochs):\n",
    "    # setup loop with TQDM and dataloader\n",
    "    loop = tqdm(loader, leave=True)\n",
    "    for batch in loop:\n",
    "        # initialize calculated gradients (from prev step)\n",
    "        optim.zero_grad()\n",
    "        # pull all tensor batches required for training\n",
    "        input_ids = batch['input_ids'].to(device)\n",
    "        attention_mask = batch['attention_mask'].to(device)\n",
    "        labels = batch['labels'].to(device)\n",
    "        # process\n",
    "        outputs = model(input_ids, attention_mask=attention_mask,\n",
    "                        labels=labels)\n",
    "        # extract loss\n",
    "        loss = outputs.loss\n",
    "        loss_hist.append(loss)\n",
    "        # calculate loss for every parameter that needs grad update\n",
    "        loss.backward()\n",
    "        # update parameters\n",
    "        optim.step()\n",
    "        # print relevant info to progress bar\n",
    "        loop.set_description(f'Epoch {epoch}')\n",
    "        loop.set_postfix(loss=loss.item())"
   ]
  },
  {
   "cell_type": "code",
   "execution_count": 18,
   "id": "8d017c82",
   "metadata": {},
   "outputs": [],
   "source": [
    "import matplotlib.pyplot as plt\n",
    "plt.style.use('seaborn-whitegrid')\n",
    "import numpy as np"
   ]
  },
  {
   "cell_type": "code",
   "execution_count": 19,
   "id": "0fbe177c",
   "metadata": {},
   "outputs": [
    {
     "name": "stdout",
     "output_type": "stream",
     "text": [
      "tensor(0.2020, device='cuda:0', grad_fn=<NllLossBackward>)\n"
     ]
    },
    {
     "data": {
      "text/plain": [
       "[<matplotlib.lines.Line2D at 0x1fb1ebf44c0>]"
      ]
     },
     "execution_count": 19,
     "metadata": {},
     "output_type": "execute_result"
    },
    {
     "data": {
      "image/png": "[encoded data removed]",
      "text/plain": [
       "<Figure size 432x288 with 1 Axes>"
      ]
     },
     "metadata": {},
     "output_type": "display_data"
    }
   ],
   "source": [
    "print(min(loss_hist))\n",
    "losses = [x.to('cpu').detach().numpy() for x in loss_hist]\n",
    "plt.plot(losses)"
   ]
  },
  {
   "cell_type": "code",
   "execution_count": 20,
   "id": "925856c8",
   "metadata": {},
   "outputs": [],
   "source": [
    "with open('./data/text/oscar_uk/text_1.txt', 'r', encoding='utf-8') as fp:\n",
    "    lines = fp.read().split('\\n')\n",
    "batch = tokenizer(lines, max_length=512, padding='max_length', truncation=True)\n",
    "labels = torch.tensor([x for x in batch['input_ids']])\n",
    "mask = torch.tensor([x for x in batch['attention_mask']])\n",
    "input_ids = labels.detach().clone()\n",
    "rand = torch.rand(input_ids.shape)\n",
    "mask_arr = (rand < .15) * (input_ids != 0) * (input_ids != 1) * (input_ids != 2)\n",
    "for i in range(input_ids.shape[0]):\n",
    "    # get indices of mask positions from mask array\n",
    "    selection = torch.flatten(mask_arr[i].nonzero()).tolist()\n",
    "    # mask input_ids\n",
    "    input_ids[i, selection] = 3  # our custom [MASK] token == 3"
   ]
  },
  {
   "cell_type": "code",
   "execution_count": 21,
   "id": "fef58366",
   "metadata": {},
   "outputs": [
    {
     "data": {
      "application/vnd.jupyter.widget-view+json": {
       "model_id": "9828da9705d6480caa987fbc54bddecf",
       "version_major": 2,
       "version_minor": 0
      },
      "text/plain": [
       "  0%|          | 0/625 [00:00<?, ?it/s]"
      ]
     },
     "metadata": {},
     "output_type": "display_data"
    }
   ],
   "source": [
    "encodings = {'input_ids': input_ids, 'attention_mask': mask, 'labels': labels}\n",
    "dataset = Dataset(encodings)\n",
    "loader = torch.utils.data.DataLoader(dataset, batch_size=8, shuffle=True)\n",
    "for epoch in range(epochs):\n",
    "    # setup loop with TQDM and dataloader\n",
    "    loop = tqdm(loader, leave=True)\n",
    "    for batch in loop:\n",
    "        # initialize calculated gradients (from prev step)\n",
    "        optim.zero_grad()\n",
    "        # pull all tensor batches required for training\n",
    "        input_ids = batch['input_ids'].to(device)\n",
    "        attention_mask = batch['attention_mask'].to(device)\n",
    "        labels = batch['labels'].to(device)\n",
    "        # process\n",
    "        outputs = model(input_ids, attention_mask=attention_mask,\n",
    "                        labels=labels)\n",
    "        # extract loss\n",
    "        loss = outputs.loss\n",
    "        loss_hist.append(loss)\n",
    "        # calculate loss for every parameter that needs grad update\n",
    "        loss.backward()\n",
    "        # update parameters\n",
    "        optim.step()\n",
    "        # print relevant info to progress bar\n",
    "        loop.set_description(f'Epoch {epoch}')\n",
    "        loop.set_postfix(loss=loss.item())"
   ]
  },
  {
   "cell_type": "code",
   "execution_count": 22,
   "id": "1a3e554f",
   "metadata": {},
   "outputs": [
    {
     "name": "stdout",
     "output_type": "stream",
     "text": [
      "tensor(0.2020, device='cuda:0', grad_fn=<NllLossBackward>)\n"
     ]
    },
    {
     "data": {
      "text/plain": [
       "[<matplotlib.lines.Line2D at 0x1fcc3c08ac0>]"
      ]
     },
     "execution_count": 22,
     "metadata": {},
     "output_type": "execute_result"
    },
    {
     "data": {
      "image/png": "[encoded data removed]",
      "text/plain": [
       "<Figure size 432x288 with 1 Axes>"
      ]
     },
     "metadata": {},
     "output_type": "display_data"
    }
   ],
   "source": [
    "print(min(loss_hist))\n",
    "losses = [x.to('cpu').detach().numpy() for x in loss_hist]\n",
    "plt.plot(losses)"
   ]
  },
  {
   "cell_type": "code",
   "execution_count": 23,
   "id": "ba63935c",
   "metadata": {},
   "outputs": [],
   "source": [
    "with open('./data/text/oscar_uk/text_2.txt', 'r', encoding='utf-8') as fp:\n",
    "    lines = fp.read().split('\\n')\n",
    "batch = tokenizer(lines, max_length=512, padding='max_length', truncation=True)\n",
    "labels = torch.tensor([x for x in batch['input_ids']])\n",
    "mask = torch.tensor([x for x in batch['attention_mask']])\n",
    "input_ids = labels.detach().clone()\n",
    "rand = torch.rand(input_ids.shape)\n",
    "mask_arr = (rand < .15) * (input_ids != 0) * (input_ids != 1) * (input_ids != 2)\n",
    "for i in range(input_ids.shape[0]):\n",
    "    # get indices of mask positions from mask array\n",
    "    selection = torch.flatten(mask_arr[i].nonzero()).tolist()\n",
    "    # mask input_ids\n",
    "    input_ids[i, selection] = 3  # our custom [MASK] token == 3"
   ]
  },
  {
   "cell_type": "code",
   "execution_count": 24,
   "id": "c9f024e6",
   "metadata": {},
   "outputs": [
    {
     "data": {
      "application/vnd.jupyter.widget-view+json": {
       "model_id": "ec3d3bb79fd043e287570d590083cb4a",
       "version_major": 2,
       "version_minor": 0
      },
      "text/plain": [
       "  0%|          | 0/625 [00:00<?, ?it/s]"
      ]
     },
     "metadata": {},
     "output_type": "display_data"
    }
   ],
   "source": [
    "encodings = {'input_ids': input_ids, 'attention_mask': mask, 'labels': labels}\n",
    "dataset = Dataset(encodings)\n",
    "loader = torch.utils.data.DataLoader(dataset, batch_size=8, shuffle=True)\n",
    "\n",
    "loss_hist = []\n",
    "for epoch in range(epochs):\n",
    "    # setup loop with TQDM and dataloader\n",
    "    loop = tqdm(loader, leave=True)\n",
    "    for batch in loop:\n",
    "        # initialize calculated gradients (from prev step)\n",
    "        optim.zero_grad()\n",
    "        # pull all tensor batches required for training\n",
    "        input_ids = batch['input_ids'].to(device)\n",
    "        attention_mask = batch['attention_mask'].to(device)\n",
    "        labels = batch['labels'].to(device)\n",
    "        # process\n",
    "        outputs = model(input_ids, attention_mask=attention_mask,\n",
    "                        labels=labels)\n",
    "        # extract loss\n",
    "        loss = outputs.loss\n",
    "        loss_hist.append(loss)\n",
    "        # calculate loss for every parameter that needs grad update\n",
    "        loss.backward()\n",
    "        # update parameters\n",
    "        optim.step()\n",
    "        # print relevant info to progress bar\n",
    "        loop.set_description(f'Epoch {epoch}')\n",
    "        loop.set_postfix(loss=loss.item())"
   ]
  },
  {
   "cell_type": "code",
   "execution_count": 25,
   "id": "8f3d8a3c",
   "metadata": {},
   "outputs": [
    {
     "name": "stdout",
     "output_type": "stream",
     "text": [
      "tensor(0.1400, device='cuda:0', grad_fn=<NllLossBackward>)\n"
     ]
    },
    {
     "data": {
      "text/plain": [
       "[<matplotlib.lines.Line2D at 0x1faf9af4490>]"
      ]
     },
     "execution_count": 25,
     "metadata": {},
     "output_type": "execute_result"
    },
    {
     "data": {
      "image/png": "[encoded data removed]",
      "text/plain": [
       "<Figure size 432x288 with 1 Axes>"
      ]
     },
     "metadata": {},
     "output_type": "display_data"
    }
   ],
   "source": [
    "print(min(loss_hist))\n",
    "losses = [x.to('cpu').detach().numpy() for x in loss_hist]\n",
    "plt.plot(losses)"
   ]
  },
  {
   "cell_type": "markdown",
   "id": "23bd857d",
   "metadata": {},
   "source": [
    "### Try to fill the masked text"
   ]
  },
  {
   "cell_type": "code",
   "execution_count": 26,
   "id": "79a70ad6",
   "metadata": {},
   "outputs": [
    {
     "name": "stderr",
     "output_type": "stream",
     "text": [
      "C:\\Users\\Asus\\anaconda3\\envs\\torch\\lib\\site-packages\\torchaudio\\backend\\utils.py:67: UserWarning: No audio backend is available.\n",
      "  warnings.warn('No audio backend is available.')\n"
     ]
    }
   ],
   "source": [
    "from transformers import pipeline\n",
    "\n",
    "unmasker = pipeline(\"fill-mask\", model=model.to('cpu'), tokenizer=tokenizer)"
   ]
  },
  {
   "cell_type": "code",
   "execution_count": 27,
   "id": "f7dbf969",
   "metadata": {},
   "outputs": [
    {
     "data": {
      "text/plain": [
       "[{'sequence': 'Скажіть, будь ласка, де?',\n",
       "  'score': 0.4063747823238373,\n",
       "  'token': 4,\n",
       "  'token_str': '<mask>'},\n",
       " {'sequence': 'Скажіть, будь ласка, де ваги?',\n",
       "  'score': 0.0003808412002399564,\n",
       "  'token': 11841,\n",
       "  'token_str': ' ваги'},\n",
       " {'sequence': 'Скажіть, будь ласка, де нормативної?',\n",
       "  'score': 0.00022684186114929616,\n",
       "  'token': 28182,\n",
       "  'token_str': ' нормативної'},\n",
       " {'sequence': 'Скажіть, будь ласка, де Всього?',\n",
       "  'score': 0.00020784768275916576,\n",
       "  'token': 13600,\n",
       "  'token_str': ' Всього'},\n",
       " {'sequence': 'Скажіть, будь ласка, де визначаються?',\n",
       "  'score': 0.00020170923380646855,\n",
       "  'token': 12263,\n",
       "  'token_str': ' визначаються'}]"
      ]
     },
     "execution_count": 27,
     "metadata": {},
     "output_type": "execute_result"
    }
   ],
   "source": [
    "# could you plpease tell me where is...?\n",
    "unmasker(f'Скажіть, будь ласка, де  {unmasker.tokenizer.mask_token}?')"
   ]
  },
  {
   "cell_type": "code",
   "execution_count": 28,
   "id": "8e9e2b89",
   "metadata": {},
   "outputs": [
    {
     "data": {
      "text/plain": [
       "[{'sequence': 'Скільки тобі?',\n",
       "  'score': 0.3244904577732086,\n",
       "  'token': 4,\n",
       "  'token_str': '<mask>'},\n",
       " {'sequence': 'Скільки тобі спортсмен?',\n",
       "  'score': 0.00040761532727628946,\n",
       "  'token': 8042,\n",
       "  'token_str': ' спортсмен'},\n",
       " {'sequence': 'Скільки тобі визначаються?',\n",
       "  'score': 0.000352613307768479,\n",
       "  'token': 12263,\n",
       "  'token_str': ' визначаються'},\n",
       " {'sequence': 'Скільки тобі табл?',\n",
       "  'score': 0.00033263597288168967,\n",
       "  'token': 30499,\n",
       "  'token_str': ' табл'},\n",
       " {'sequence': 'Скільки тобі оборот?',\n",
       "  'score': 0.00023346382658928633,\n",
       "  'token': 19393,\n",
       "  'token_str': ' оборот'}]"
      ]
     },
     "execution_count": 28,
     "metadata": {},
     "output_type": "execute_result"
    }
   ],
   "source": [
    "# How old are you?\n",
    "# Скільки тобі років?\n",
    "unmasker(f'Скільки тобі {unmasker.tokenizer.mask_token}?')"
   ]
  },
  {
   "cell_type": "code",
   "execution_count": 29,
   "id": "563302e0",
   "metadata": {},
   "outputs": [
    {
     "data": {
      "text/plain": [
       "[{'sequence': 'Я хочу.',\n",
       "  'score': 0.37248122692108154,\n",
       "  'token': 4,\n",
       "  'token_str': '<mask>'},\n",
       " {'sequence': 'Я хочуасти.',\n",
       "  'score': 0.00022000244644004852,\n",
       "  'token': 27558,\n",
       "  'token_str': 'асти'},\n",
       " {'sequence': 'Я хочугун.',\n",
       "  'score': 0.00021459683193825185,\n",
       "  'token': 20113,\n",
       "  'token_str': 'гун'},\n",
       " {'sequence': 'Я хочуліку.',\n",
       "  'score': 0.00020222057355567813,\n",
       "  'token': 15667,\n",
       "  'token_str': 'ліку'},\n",
       " {'sequence': 'Я хочу 800.',\n",
       "  'score': 0.00019505257660057396,\n",
       "  'token': 11375,\n",
       "  'token_str': ' 800'}]"
      ]
     },
     "execution_count": 29,
     "metadata": {},
     "output_type": "execute_result"
    }
   ],
   "source": [
    "# I am thirsty\n",
    "# Я хочу пити\n",
    "unmasker(f'Я хочу {unmasker.tokenizer.mask_token}.')"
   ]
  },
  {
   "cell_type": "code",
   "execution_count": 30,
   "id": "0eafb289",
   "metadata": {},
   "outputs": [
    {
     "data": {
      "text/plain": [
       "[{'sequence': ' хочу пити.',\n",
       "  'score': 0.21628455817699432,\n",
       "  'token': 4,\n",
       "  'token_str': '<mask>'},\n",
       " {'sequence': 'тивно хочу пити.',\n",
       "  'score': 0.0003017832350451499,\n",
       "  'token': 18275,\n",
       "  'token_str': 'тивно'},\n",
       " {'sequence': ' хронічного хочу пити.',\n",
       "  'score': 0.00028776892577297986,\n",
       "  'token': 28200,\n",
       "  'token_str': ' хронічного'},\n",
       " {'sequence': 'сист хочу пити.',\n",
       "  'score': 0.0002845696290023625,\n",
       "  'token': 8423,\n",
       "  'token_str': 'сист'},\n",
       " {'sequence': 'Дон хочу пити.',\n",
       "  'score': 0.0002736362221185118,\n",
       "  'token': 20268,\n",
       "  'token_str': 'Дон'}]"
      ]
     },
     "execution_count": 30,
     "metadata": {},
     "output_type": "execute_result"
    }
   ],
   "source": [
    "unmasker(f'{unmasker.tokenizer.mask_token} хочу пити.')"
   ]
  },
  {
   "cell_type": "code",
   "execution_count": 31,
   "id": "a74c2254",
   "metadata": {},
   "outputs": [
    {
     "data": {
      "text/plain": [
       "[{'sequence': ' повільніше, будь ласка.',\n",
       "  'score': 0.26622310280799866,\n",
       "  'token': 4,\n",
       "  'token_str': '<mask>'},\n",
       " {'sequence': ' Кодексом повільніше, будь ласка.',\n",
       "  'score': 0.0003346733283251524,\n",
       "  'token': 15877,\n",
       "  'token_str': ' Кодексом'},\n",
       " {'sequence': '2008 повільніше, будь ласка.',\n",
       "  'score': 0.00033172054099850357,\n",
       "  'token': 8542,\n",
       "  'token_str': '2008'},\n",
       " {'sequence': 'сять повільніше, будь ласка.',\n",
       "  'score': 0.0003246970009058714,\n",
       "  'token': 5159,\n",
       "  'token_str': 'сять'},\n",
       " {'sequence': 'Постій повільніше, будь ласка.',\n",
       "  'score': 0.0003236877091694623,\n",
       "  'token': 27581,\n",
       "  'token_str': 'Постій'}]"
      ]
     },
     "execution_count": 31,
     "metadata": {},
     "output_type": "execute_result"
    }
   ],
   "source": [
    "# Speak slower please\n",
    "# Говоріть повільніше, будь ласка\n",
    "unmasker(f'{unmasker.tokenizer.mask_token} повільніше, будь ласка.')"
   ]
  },
  {
   "cell_type": "code",
   "execution_count": 32,
   "id": "675c7df8",
   "metadata": {},
   "outputs": [
    {
     "data": {
      "text/plain": [
       "[{'sequence': 'Скільки це?',\n",
       "  'score': 0.27030864357948303,\n",
       "  'token': 4,\n",
       "  'token_str': '<mask>'},\n",
       " {'sequence': 'Скільки цедитор?',\n",
       "  'score': 0.0003184306260664016,\n",
       "  'token': 26274,\n",
       "  'token_str': 'дитор'},\n",
       " {'sequence': 'Скільки це злив?',\n",
       "  'score': 0.00030043828883208334,\n",
       "  'token': 28390,\n",
       "  'token_str': ' злив'},\n",
       " {'sequence': 'Скільки це здійснюють?',\n",
       "  'score': 0.00028263055719435215,\n",
       "  'token': 7515,\n",
       "  'token_str': ' здійснюють'},\n",
       " {'sequence': 'Скільки це розпов?',\n",
       "  'score': 0.0002782805822789669,\n",
       "  'token': 3498,\n",
       "  'token_str': ' розпов'}]"
      ]
     },
     "execution_count": 32,
     "metadata": {},
     "output_type": "execute_result"
    }
   ],
   "source": [
    "# How much is this?\n",
    "# Скільки це коштує?\n",
    "unmasker(f'Скільки це {unmasker.tokenizer.mask_token} ?')"
   ]
  },
  {
   "cell_type": "code",
   "execution_count": 33,
   "id": "88c351a2",
   "metadata": {},
   "outputs": [
    {
     "data": {
      "text/plain": [
       "[{'sequence': ' побачення!',\n",
       "  'score': 0.2751995921134949,\n",
       "  'token': 4,\n",
       "  'token_str': '<mask>'},\n",
       " {'sequence': '2008 побачення!',\n",
       "  'score': 0.0005197090795263648,\n",
       "  'token': 8542,\n",
       "  'token_str': '2008'},\n",
       " {'sequence': ' Передба побачення!',\n",
       "  'score': 0.0004222544375807047,\n",
       "  'token': 26455,\n",
       "  'token_str': ' Передба'},\n",
       " {'sequence': ' любитель побачення!',\n",
       "  'score': 0.00032014455064199865,\n",
       "  'token': 30503,\n",
       "  'token_str': ' любитель'},\n",
       " {'sequence': 'даються побачення!',\n",
       "  'score': 0.0003191670693922788,\n",
       "  'token': 9737,\n",
       "  'token_str': 'даються'}]"
      ]
     },
     "execution_count": 33,
     "metadata": {},
     "output_type": "execute_result"
    }
   ],
   "source": [
    "# Bye!\n",
    "# До побачення!\n",
    "unmasker(f'{unmasker.tokenizer.mask_token} побачення!')"
   ]
  },
  {
   "cell_type": "markdown",
   "id": "8dfdd2e7",
   "metadata": {},
   "source": [
    "Not much sense..."
   ]
  },
  {
   "cell_type": "code",
   "execution_count": 34,
   "id": "fdb38e3c",
   "metadata": {},
   "outputs": [],
   "source": [
    "# save the model\n",
    "model.save_pretrained('./panas1')"
   ]
  },
  {
   "cell_type": "code",
   "execution_count": null,
   "id": "3ac3cb7b",
   "metadata": {},
   "outputs": [],
   "source": []
  }
 ],
 "metadata": {
  "kernelspec": {
   "display_name": "Python 3",
   "language": "python",
   "name": "python3"
  },
  "language_info": {
   "codemirror_mode": {
    "name": "ipython",
    "version": 3
   },
   "file_extension": ".py",
   "mimetype": "text/x-python",
   "name": "python",
   "nbconvert_exporter": "python",
   "pygments_lexer": "ipython3",
   "version": "3.8.8"
  }
 },
 "nbformat": 4,
 "nbformat_minor": 5
}
